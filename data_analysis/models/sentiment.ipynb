{
 "cells": [
  {
   "cell_type": "code",
   "execution_count": 1,
   "outputs": [],
   "source": [
    "from transformers import AutoModelForSequenceClassification\n",
    "from transformers import AutoTokenizer\n",
    "import numpy as np\n",
    "import math\n",
    "import csv\n",
    "import urllib.request\n",
    "import pandas as pd\n",
    "import torch\n",
    "import textwrap"
   ],
   "metadata": {
    "collapsed": false
   }
  },
  {
   "cell_type": "code",
   "execution_count": 2,
   "outputs": [],
   "source": [
    "# Preprocess text split into 'wordcount' chunks\n",
    "def preprocess(text):\n",
    "    tokens = text.split(' ')\n",
    "    new_texts = []\n",
    "\n",
    "    wordcount = 384\n",
    "    whole_parts = math.floor(len(tokens)/wordcount)\n",
    "    for i in range(whole_parts):\n",
    "        new_text = \" \".join(tokens[i*wordcount:(i+1)*wordcount])\n",
    "        new_texts.append(new_text)\n",
    "    new_texts.append(\" \".join(tokens[(whole_parts-1)*wordcount:]))\n",
    "\n",
    "    return new_texts"
   ],
   "metadata": {
    "collapsed": false
   }
  },
  {
   "cell_type": "code",
   "execution_count": 6,
   "metadata": {
    "collapsed": true
   },
   "outputs": [],
   "source": [
    "# Tasks:\n",
    "# emoji, emotion, hate, irony, offensive, sentiment\n",
    "# stance/abortion, stance/atheism, stance/climate, stance/feminist, stance/hillary\n",
    "task='sentiment'\n",
    "MODEL = f\"cardiffnlp/twitter-roberta-base-{task}\"\n",
    "\n",
    "tokenizer = AutoTokenizer.from_pretrained(MODEL)\n",
    "tokenizer.save_pretrained(f\"{MODEL}-tokenizer\")\n",
    "\n",
    "model = AutoModelForSequenceClassification.from_pretrained(MODEL)\n",
    "model.save_pretrained(f\"{MODEL}-model\")"
   ]
  },
  {
   "cell_type": "code",
   "execution_count": 7,
   "outputs": [],
   "source": [
    "# download label mapping\n",
    "labels=[]\n",
    "mapping_link = f\"https://raw.githubusercontent.com/cardiffnlp/tweeteval/main/datasets/{task}/mapping.txt\"\n",
    "with urllib.request.urlopen(mapping_link) as f:\n",
    "    html = f.read().decode('utf-8').split(\"\\n\")\n",
    "    csvreader = csv.reader(html, delimiter='\\t')\n",
    "labels = [row[1] for row in csvreader if len(row) > 1]"
   ],
   "metadata": {
    "collapsed": false
   }
  },
  {
   "cell_type": "code",
   "execution_count": 11,
   "outputs": [],
   "source": [
    "news_data = pd.read_csv('../datasets/all-the-news-2-1.csv')"
   ],
   "metadata": {
    "collapsed": false
   }
  },
  {
   "cell_type": "code",
   "execution_count": 13,
   "outputs": [
    {
     "name": "stdout",
     "output_type": "stream",
     "text": [
      "I started drinking when I went to college. In the UK, where I’m from, you can legally drink at 18—so I did. We all did. The bar opposite our apartment was where my new roommates became my best friends. Drinking turned me from an introvert into the life of the party, powered my dancing, and often inspired me to lay in the middle of a nightclub making “dance floor angels,\" blissed out. When I wasn’t drinking, I stayed up all night, panic-writing assignments, high on caffeine pills. In my second year, I felt exhausted all the time and blacked out after nights in the pub. One morning, while the room spun, I realized I’d lost my coat and keys and had dried vomit on my pillow.  Maybe I should drink less, I thought, although I couldn’t imagine how. Fortunately for my personal safety, fate intervened: My fatigue worsened, and I had to drop out. My doctor diagnosed me with ME/CFS, triggered by the mono I’d had in high school. Home with my family, where no one wanted to stay up until 3 am, I stopped getting drunk without effort.  Initially I was devastated to leave my friends and lose my chance of getting a degree in a timely manner, but later I wondered how much worse my drinking might have become. I used to tell myself I was just a typical student—and I was. A 2008 study found that 43 percent of women students in the UK drink to excess. The Substance Abuse and Mental Health Services Administration’s 2016 survey on drug use in the US found that, as of 2016, 38.4 percent of adults ages 18 to 25 had binged on alcohol in the previous month. They define binge drinking as five or more drinks during one social occasion for men, and four for women. (Five or more occasions like that in a month is classified as heavy drinking.) But it's really not that simple. But while I definitely fit the textbook definition of a heavy drinker, that doesn’t necessarily signify an addiction. Many people drink too much because they don’t know what a low-risk amount of alcohol is, says Mark Willenbring, chief medical officer of Annum Health and former director of recovery research at the National Institute on Alcohol Abuse and Alcoholism (NIAAA). They also don’t know whether their drinking falls between safe limits, so keeping a record is a good way to assess that, although the amount of alcohol in mixed drinks can vary wildly. “You can get more information about a stick of gum than you can about how many [servings] there are in a martini,” he says. Gail D’Onofrio—professor and co-founder of the department of emergency medicine at Yale University School of Medicine, and an independent investigator in drug and alcohol research—says we need to be pragmatic about the fact that young people are always going to drink, and focus on preventing harm. This includes encouraging them to use ride-sharing apps rather than driving, to not mix alcohol and drugs, and to educate them about the dangers of drinking above safe limits. Looking back, I shudder at the danger I put myself in: I could have choked on my own vomit, been hit by a car, or died of alcohol poisoning. Also, binge drinking blurs a lot of things—consent being one of them. “Something that’s worrisome to me is unwanted sexual activity,” D’Onofrio says. “That could lead to an unwanted pregnancy or transmission of a disease.” Long-term, the consequences of heavy drinking can include scarring of the liver known as cirrhosis as well as stroke and cancer.  I knew my behavior hadn’t been healthy, but I struggled to put it into context. I’d never craved alcohol, only the confidence it gave me. Is that just me being naive or was I some kind of situational alcoholic? “Alcoholism,” of course, is an outdated term, D’Onofrio and Willenbring tell me. It’s now called alcohol use disorder (AUD), to reflect the fact that the disease isn’t binary but a continuum, from mild to severe. (According to the NIAAA, it affects 16 million people in the US.)  Contrary to stereotype, the severity of someone’s disorder isn’t indicated by how often they drink so much as their ability to control it, my experts tell me. “Even if you're only drinking once a month—if you start and can't stop—then you [shouldn't] drink,” D’Onofrio says.  Scientists don’t know why some people develop AUD and others don’t, but there’s a strong genetic component. “If you have a parent who has alcohol use disorder, you're five times more likely to develop it,” she adds. Willenbring says it’s not the alcohol itself that people are addicted to, but the anticipation of the intoxication it provides. “It has nothing to do with an underlying character defect or psychological problem. It’s just neurobiology.” Typically, though, heavy drinkers don’t have a disorder. According to the Centers for Disease Control and Prevention, nine out of ten people who drink heavily aren’t dependent on alcohol. The distinction might not make a huge difference in terms of the need to stop or moderate your drinking, but Willenbring and D’Onofrio both say the DSM 5 (the manual we use to diagnose mental illness) criteria for AUD is the gold standard for assessing whether someone has the disorder or not. I answered the questions as my 19-year-old self, and matched four of the 11 criteria, which suggests a moderate disorder. But Willenbring says that while these assessments are accurate, they can also be temporary. “With people who meet diagnostic criteria for a disorder when they’re under 25, half of the time it will be gone by 30.”  When it isn't gone by then, managing the illness—which might mean taking a break from alcohol and then learning to drink more responsibly, or using medication that blocks opioid receptors, thus decreasing the pleasure drinkers get from alcohol—is effective most of the time for all but the most severe cases (5 to 10 percent of people with AUD).  The way I used to drink could have taken me down a dark path, and it was only thanks to biochemical luck and an unexpected illness that it didn’t. I’m not sure if I’ll ever cut out alcohol entirely. But I am relieved to find that when I go through the DSM questions in respect to my current drinking habits, I can now answer “no” to all of them.  Read This Next: How Dangerous Is it to Black Out From Alcohol?\n"
     ]
    }
   ],
   "source": [
    "print(news_data['article'][21544])"
   ],
   "metadata": {
    "collapsed": false
   }
  },
  {
   "cell_type": "code",
   "execution_count": 7,
   "outputs": [
    {
     "name": "stdout",
     "output_type": "stream",
     "text": [
      "2688878\n"
     ]
    }
   ],
   "source": [
    "print(news_data['article'].size)"
   ],
   "metadata": {
    "collapsed": false
   }
  },
  {
   "cell_type": "code",
   "execution_count": 8,
   "outputs": [
    {
     "name": "stdout",
     "output_type": "stream",
     "text": [
      "cuda:0\n"
     ]
    }
   ],
   "source": [
    "device = \"cuda:0\" if torch.cuda.is_available() else \"cpu\"\n",
    "model = model.to(device)\n",
    "print(device)"
   ],
   "metadata": {
    "collapsed": false
   }
  },
  {
   "cell_type": "code",
   "execution_count": 11,
   "outputs": [
    {
     "name": "stdout",
     "output_type": "stream",
     "text": [
      "Encoding(num_tokens=105, attributes=[ids, type_ids, tokens, offsets, attention_mask, special_tokens_mask, overflowing])\n"
     ]
    }
   ],
   "source": [
    "batchsize = 1\n",
    "#batches = math.floor((news_data['article'].size)/batchsize)\n",
    "batches = 1\n",
    "scores = []\n",
    "for i in range(batches):\n",
    "    torch.cuda.empty_cache()\n",
    "    #batch = news_data['article'][i*batchsize:(i+1)*batchsize]\n",
    "    batch = news_data['article'][21544:21545]\n",
    "    for article in batch:\n",
    "        article_parts = preprocess(str(article))\n",
    "        encoded_input = tokenizer(article_parts, return_tensors='pt', truncation=True, padding=True).to(device)\n",
    "        print(encoded_input[0])\n",
    "        output = model(**encoded_input)\n",
    "        scores = output[0][0].detach().to('cpu').numpy()\n",
    "        scores = torch.softmax(scores)\n",
    "\n",
    "# # TF\n",
    "# model = TFAutoModelForSequenceClassification.from_pretrained(MODEL)\n",
    "# model.save_pretrained(MODEL)\n",
    "\n",
    "# text = \"Good night 😊\"\n",
    "# encoded_input = tokenizer(text, return_tensors='tf')\n",
    "# output = model(encoded_input)\n",
    "# scores = output[0][0].numpy()\n",
    "# scores = softmax(scores)"
   ],
   "metadata": {
    "collapsed": false
   }
  },
  {
   "cell_type": "code",
   "execution_count": 12,
   "outputs": [
    {
     "name": "stdout",
     "output_type": "stream",
     "text": [
      "1) left 0.5525\n",
      "2) center 0.4475\n"
     ]
    }
   ],
   "source": [
    "ranking = np.argsort(scores)\n",
    "ranking = ranking[::-1]\n",
    "for i in range(scores.shape[0]):\n",
    "    l = labels[ranking[i]]\n",
    "    s = scores[ranking[i]]\n",
    "    print(f\"{i+1}) {l} {np.round(float(s), 4)}\")"
   ],
   "metadata": {
    "collapsed": false
   }
  },
  {
   "cell_type": "code",
   "execution_count": null,
   "outputs": [],
   "source": [],
   "metadata": {
    "collapsed": false
   }
  }
 ],
 "metadata": {
  "kernelspec": {
   "display_name": "Python 3",
   "language": "python",
   "name": "python3"
  },
  "language_info": {
   "codemirror_mode": {
    "name": "ipython",
    "version": 2
   },
   "file_extension": ".py",
   "mimetype": "text/x-python",
   "name": "python",
   "nbconvert_exporter": "python",
   "pygments_lexer": "ipython2",
   "version": "2.7.6"
  }
 },
 "nbformat": 4,
 "nbformat_minor": 0
}
