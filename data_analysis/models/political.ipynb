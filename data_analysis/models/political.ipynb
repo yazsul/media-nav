{
 "cells": [
  {
   "cell_type": "code",
   "execution_count": 1,
   "metadata": {
    "collapsed": true
   },
   "outputs": [],
   "source": [
    "from transformers import AutoTokenizer, AutoModelForSequenceClassification\n",
    "import torch\n",
    "import pandas as pd\n",
    "import numpy as np"
   ]
  },
  {
   "cell_type": "code",
   "execution_count": 3,
   "outputs": [],
   "source": [
    "news_data = pd.read_csv(\"all-the-news-2-1.csv\")"
   ],
   "metadata": {
    "collapsed": false
   }
  },
  {
   "cell_type": "code",
   "execution_count": 60,
   "outputs": [
    {
     "name": "stdout",
     "output_type": "stream",
     "text": [
      "DUBAI (Reuters) - Four members of a Chinese family who arrived in the United Arab Emirates from Wuhan have been diagnosed with the new coronavirus, the first known cases in the Middle East, the UAE health ministry said on Wednesday. The virus originated in the city, capital of Hubei province, and has killed more than 130 people in China. The UAE is a major international air transport hub and its airport in Dubai is one of the world’s busiest. The four were visitors and arrived in the country on Jan 16, health ministry official Hussein al-Rand told Reuters. One family member, feeling unwell, attended a clinic on Jan 23 where they were diagnosed with the coronavirus. The other three members were subsequently tested and also diagnosed with the virus. The family comprises a wife and husband, both 36, a child aged nine, and a grandmother aged 63, Rand said. All four are in a stable condition and under medical observation, the ministry said in an earlier statement carried by the state news agency. Rand said the government had traced those the family had come into contact with since arriving, and all had tested negative for the virus. He declined to say which of the UAE’s seven emirates the family were being treated in or had visited, or at which airport they arrived. Nearly 60 cases have been reported in 15 countries outside China, including the United States, France and Singapore. Fears of the spreading virus have pushed airlines to reduce flights to China. Emirates, the UAE’s biggest airline, said on Wednesday its flights were operating normally, and Rand said there were no plans to suspend flights between the UAE and China. The Gulf Cooperation Council’s (GCC) health committee met on Wednesday in the Saudi capital Riyadh to discuss the virus and to unify Gulf efforts to prevent its spread, Bahrain’s state news agency BNA said. Reporting by Nafisa Eltahir, Alexander Cornwell, Lisa Barrington and Nayera Abdallah; Editing by Janet Lawrence and John Stonestreet\n"
     ]
    }
   ],
   "source": [
    "article = 2522145\n",
    "print(news_data['article'][article])"
   ],
   "metadata": {
    "collapsed": false
   }
  },
  {
   "cell_type": "code",
   "execution_count": 6,
   "outputs": [],
   "source": [
    "tokenizer = AutoTokenizer.from_pretrained(\"bert-base-cased\")\n",
    "tokenizer.save_pretrained(\"bucketresearch/politicalBiasBERT-tokenizer\")\n",
    "model = AutoModelForSequenceClassification.from_pretrained(\"bucketresearch/politicalBiasBERT\")\n",
    "model.save_pretrained(\"bucketresearch/politicalBiasBERT-model\")"
   ],
   "metadata": {
    "collapsed": false
   }
  },
  {
   "cell_type": "code",
   "execution_count": 7,
   "outputs": [
    {
     "name": "stdout",
     "output_type": "stream",
     "text": [
      "cuda:0\n"
     ]
    }
   ],
   "source": [
    "device = \"cuda:0\" if torch.cuda.is_available() else \"cpu\"\n",
    "model = model.to(device)\n",
    "print(device)"
   ],
   "metadata": {
    "collapsed": false
   }
  },
  {
   "cell_type": "code",
   "execution_count": 61,
   "outputs": [
    {
     "name": "stdout",
     "output_type": "stream",
     "text": [
      "left: 0.07860488444566727\n",
      "center: 0.8915281891822815\n",
      "right: 0.02986685186624527\n"
     ]
    },
    {
     "data": {
      "text/plain": "[None, None, None]"
     },
     "execution_count": 61,
     "metadata": {},
     "output_type": "execute_result"
    }
   ],
   "source": [
    "text = news_data['article'][article]\n",
    "\n",
    "#labels = torch.tensor([]).to(device)\n",
    "\n",
    "inputs = tokenizer(text, return_tensors=\"pt\", truncation=True, padding=True).to(device)\n",
    "outputs = model(**inputs)\n",
    "logits = outputs[:]\n",
    "\n",
    "# [0] -> left\n",
    "# [1] -> center\n",
    "# [2] -> right\n",
    "w = torch.softmax(logits[0][0].detach().to('cpu').numpy())\n",
    "labels = ['left', 'center', 'right']\n",
    "\n",
    "[print(f\"{labels[i]}: {w[i]}\") for i in range(len(labels))]"
   ],
   "metadata": {
    "collapsed": false
   }
  },
  {
   "cell_type": "code",
   "execution_count": null,
   "outputs": [],
   "source": [],
   "metadata": {
    "collapsed": false
   }
  }
 ],
 "metadata": {
  "kernelspec": {
   "display_name": "Python 3",
   "language": "python",
   "name": "python3"
  },
  "language_info": {
   "codemirror_mode": {
    "name": "ipython",
    "version": 2
   },
   "file_extension": ".py",
   "mimetype": "text/x-python",
   "name": "python",
   "nbconvert_exporter": "python",
   "pygments_lexer": "ipython2",
   "version": "2.7.6"
  }
 },
 "nbformat": 4,
 "nbformat_minor": 0
}
